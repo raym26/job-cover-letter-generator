{
 "cells": [
  {
   "cell_type": "markdown",
   "id": "6a6770f8-efac-45fa-8fe0-1704b78a72d0",
   "metadata": {},
   "source": [
    "## **Cover Letter Generator**\n",
    "\n",
    "This jupyter notebook contains code to help you generate custom-made cover letters for the job you're applying to.  I've personally found cover letters to be an effective way to get you at least through the first screen. If you find yourself feeling lazy, this is just the tool for you.  Feel free to customize the prompts as needed.   \n",
    "\n",
    "An LLM matches required skills to your job skills and finds the appropriate experiences to highlight.  \n",
    "\n",
    "**Technical architecture** \n",
    "- LLM -- I'm using \"llama3-70b\" through GroqCloud for both the cover letter writing as well as in extracting the skills and related experience from your resume.\n",
    "- ChromaDB -- This is where we store your skills/related experiences as vectors to be extracted during the cover letter writing\n",
    "- Selenium -- We'll need a webscraper to specifically scrape for job-specific information on Linkedin for example\n",
    "\n",
    "**What you'll need**\n",
    "- Job opening URL -- I've tested this on linkedin and Selenium seems to effectively avoid Linkedin blockers.\n",
    "- Your resume -- We'll use the LLM to turn your skills and related experiences into a dataframe which we'll then store in a vectorDB. Save it in same folder as the jupyter notebook.  \n",
    "- Your secret API key to your LLM of choice.  I'm using one of the Llama models through GroqCloud which can provide you with an API.\n",
    "- Optional: Work portfolio -- Bonus points if you have for example a github profile where you have a number of repos.  This notebook is customizable so you can have the LLM extract from your portfolio vs skills/experience from your resume"
   ]
  },
  {
   "cell_type": "markdown",
   "id": "9330a880-275e-4cff-b7c8-3d7c8de12d8f",
   "metadata": {},
   "source": [
    "### 0. Import libraries and dependencies"
   ]
  },
  {
   "cell_type": "code",
   "execution_count": null,
   "id": "513fcbbe-3551-4a7f-9a80-7828eb0b82e7",
   "metadata": {},
   "outputs": [],
   "source": [
    "import os\n",
    "import chromadb\n",
    "import time\n",
    "import docx\n",
    "import pandas as pd\n",
    "import json\n",
    "import uuid\n",
    "\n",
    "\n",
    "from langchain_groq import ChatGroq\n",
    "from langchain_core.prompts import PromptTemplate\n",
    "from langchain_core.output_parsers import JsonOutputParser\n",
    "from selenium import webdriver\n",
    "from webdriver_manager.chrome import ChromeDriverManager\n",
    "from selenium.webdriver.chrome.service import Service\n",
    "from selenium import webdriver\n",
    "from selenium.webdriver.chrome.options import Options\n",
    "from selenium.webdriver.common.by import By\n",
    "from selenium.webdriver.support.ui import WebDriverWait\n",
    "from selenium.webdriver.support import expected_conditions as EC\n",
    "from bs4 import BeautifulSoup\n",
    "\n",
    "os.environ[\"TOKENIZERS_PARALLELISM\"] = \"false\""
   ]
  },
  {
   "cell_type": "markdown",
   "id": "542d0de0-5899-4233-9425-62b145f0329f",
   "metadata": {},
   "source": [
    "#### Insert your Job-URL here"
   ]
  },
  {
   "cell_type": "code",
   "execution_count": 245,
   "id": "b935d56c-164b-42da-9ff3-215cf78f9e00",
   "metadata": {},
   "outputs": [],
   "source": [
    "# feel free to replace\n",
    "job_url = \"https://www.linkedin.com/jobs/view/4211854415/?alternateChannel=search&refId=DTQWg1nCcUJcgSpKXjwE%2Bg%3D%3D&trackingId=wb2Y3vvXFRD72Kiqdghr3g%3D%3D\"\n",
    "SECRET_API_KEY= \"YOUR LLM API KEY HERE\""
   ]
  },
  {
   "cell_type": "markdown",
   "id": "c5b7cc16-2272-4a70-b8bc-422b316329e6",
   "metadata": {},
   "source": [
    "### 1. Technical Architecture\n",
    "\n",
    "#### LLM: Llama3-70B\n",
    "By now, just about everyone should know about LLMs.  Here I decided to use Llama3-70B, mostly because I wanted to try GroqCloud which has many other LLMs as options. "
   ]
  },
  {
   "cell_type": "code",
   "execution_count": 247,
   "id": "04378642-69e2-4442-bf66-d6aeff8c5e4e",
   "metadata": {},
   "outputs": [
    {
     "name": "stdout",
     "output_type": "stream",
     "text": [
      "The first man to set foot on the moon was Neil Armstrong. He stepped out of the lunar module Eagle and onto the moon's surface on July 20, 1969, during the Apollo 11 mission.\n",
      "\n",
      "Armstrong famously declared, \"That's one small step for man, one giant leap for mankind,\" as he became the first human to set foot on another celestial body.\n",
      "\n",
      "He was followed by fellow astronaut Edwin \"Buzz\" Aldrin, who also walked on the moon during the mission. Michael Collins remained in orbit around the moon in the command module Columbia.\n",
      "\n",
      "Armstrong's historic moonwalk lasted about two and a half hours, during which he collected samples and conducted experiments. The Apollo 11 mission was a groundbreaking achievement that marked a major milestone in space exploration.\n"
     ]
    }
   ],
   "source": [
    "llm = ChatGroq(\n",
    "    model = \"llama3-70b-8192\",\n",
    "    temperature = .05,  # from 0-1, from more precise to more 'creative'\n",
    "    max_tokens = 1000,\n",
    "    timeout=None,\n",
    "    max_retries=2,\n",
    "    api_key = SECRET_API_KEY  # create account on Groqlcloud or other through other LLM service providers\n",
    ")\n",
    "    \n",
    "response = llm.invoke(\"Who was the first man on the moon?\")\n",
    "print(response.content)   "
   ]
  },
  {
   "cell_type": "markdown",
   "id": "62fe88a1-be5d-4e11-9b21-4cb68d62326c",
   "metadata": {},
   "source": [
    "#### VactorDB: ChromaDB\n",
    "\n",
    "Llama, care to describe this for us?"
   ]
  },
  {
   "cell_type": "code",
   "execution_count": 250,
   "id": "37fce3e5-b2ed-4db7-b5e5-5590fc3b9721",
   "metadata": {},
   "outputs": [
    {
     "name": "stdout",
     "output_type": "stream",
     "text": [
      "VectorDBs like ChromaDB are databases optimized for storing and querying dense vector data, such as those used in AI/ML models. They enable fast similarity searches, clustering, and nearest neighbor lookups.\n",
      "\n",
      "Key features:\n",
      "\n",
      "* Store and manage large collections of dense vectors\n",
      "* Support efficient similarity searches (e.g., cosine similarity, Euclidean distance)\n",
      "* Enable fast querying and filtering of vectors\n",
      "* Scalable and optimized for performance\n",
      "\n",
      "ChromaDB, in particular, is a vector database that allows for real-time vector search, clustering, and filtering, making it suitable for applications like computer vision, natural language processing, and recommender systems.\n"
     ]
    }
   ],
   "source": [
    "response = llm.invoke(\"what is a vectordb like chromadb?  Keep it short\")\n",
    "print(response.content)   "
   ]
  },
  {
   "cell_type": "markdown",
   "id": "12d177b6-d799-414d-85c6-3d4d5b0d6275",
   "metadata": {},
   "source": [
    "----\n",
    "To briefly illustrate how this works, the code block below sets up a simple search system using ChromaDB. First, it creates a ChromaDB client and makes a new collection. Then it adds two short dummy documents about Manila and Hongkong to the collection, giving each one an ID. Behind the scenes, ChromaDB turns these documents into embeddings(i.e. numerical representation of the text) that capture their meaning. When you search with the query \"Query is about Philippines,\" ChromaDB compares this query's pattern to the stored documents' patterns and returns the closest matches. Since Manila is in the Philippines, the system should rank the Manila document higher in the results.  And it does -- the 'distances' key shows the 'Manila document' has a 'distance' of 0.52 to the query vs 'HK's 1.07."
   ]
  },
  {
   "cell_type": "code",
   "execution_count": 254,
   "id": "e0654214-d82c-4bc3-80e6-476db5dee718",
   "metadata": {},
   "outputs": [
    {
     "data": {
      "text/plain": [
       "{'ids': [['id1', 'id2']],\n",
       " 'embeddings': None,\n",
       " 'documents': [['This document is about Manila',\n",
       "   'This document is about Hongkong']],\n",
       " 'uris': None,\n",
       " 'included': ['metadatas', 'documents', 'distances'],\n",
       " 'data': None,\n",
       " 'metadatas': [[None, None]],\n",
       " 'distances': [[0.529497504234314, 1.0765970945358276]]}"
      ]
     },
     "execution_count": 254,
     "metadata": {},
     "output_type": "execute_result"
    }
   ],
   "source": [
    "client=chromadb.PersistentClient(\"chromadb_example\")\n",
    "collection =client.create_collection(name = 'my_collection')\n",
    "collection.add(\n",
    "    documents = [\n",
    "        \"This document is about Manila\",\n",
    "        \"This document is about Hongkong\"\n",
    "    ],\n",
    "    ids = ['id1', 'id2']\n",
    ")\n",
    "\n",
    "results= collection.query(\n",
    "    query_texts=['Query is about Philippines'],\n",
    "    n_results=2\n",
    ")\n",
    "results"
   ]
  },
  {
   "cell_type": "markdown",
   "id": "18b38caf-dfb1-4837-8671-c9dda8bf2503",
   "metadata": {},
   "source": [
    "#### Webscraper: Selenium\n",
    "\n",
    "Here we'll use Selenium to scrape the job-URL. For this one i needed help from AI to help create a function to look for and scrape just the \"About the Job\" section of Linkedin's job pages.  Selenium is more flexible this way  vs others like WebBasedLoader.  For other purposes, like finding more mundane information, you wont need something like this.  "
   ]
  },
  {
   "cell_type": "code",
   "execution_count": 224,
   "id": "f117237c-4e61-4624-b6d0-5f70cd187eec",
   "metadata": {},
   "outputs": [],
   "source": [
    "# Define chrome_options before using it\n",
    "chrome_options = webdriver.ChromeOptions()\n",
    "# Install and setup ChromeDriver automatically\n",
    "service = Service(ChromeDriverManager().install())\n",
    "\n",
    "# Use the service when creating the driver\n",
    "driver = webdriver.Chrome(service=service, options=chrome_options)"
   ]
  },
  {
   "cell_type": "code",
   "execution_count": 340,
   "id": "a20ba961-754d-4d35-9ad5-43075240e7a4",
   "metadata": {},
   "outputs": [],
   "source": [
    "def scrape_linkedin_job(job_url):\n",
    "    # Set up Chrome options\n",
    "    chrome_options = Options()\n",
    "    chrome_options.add_argument(\"--headless\")  # Run in headless mode\n",
    "    chrome_options.add_argument(\"--no-sandbox\")\n",
    "    chrome_options.add_argument(\"--disable-dev-shm-usage\")\n",
    "    chrome_options.add_argument(\"--window-size=1920,1080\")\n",
    "    chrome_options.add_argument(\"--user-agent=Mozilla/5.0 (Windows NT 10.0; Win64; x64) AppleWebKit/537.36 (KHTML, like Gecko) Chrome/91.0.4472.124 Safari/537.36\")\n",
    "    \n",
    "    # Initialize the driver\n",
    "    driver = webdriver.Chrome(options=chrome_options)\n",
    "    \n",
    "    try:\n",
    "        # Navigate to the job URL\n",
    "        driver.get(job_url)\n",
    "        \n",
    "        # Wait for the page to load\n",
    "        time.sleep(5)\n",
    "        \n",
    "        # Wait for the job description to be visible\n",
    "        wait = WebDriverWait(driver, 10)\n",
    "        job_description = wait.until(EC.presence_of_element_located((By.CSS_SELECTOR, \".show-more-less-html__markup\")))\n",
    "        \n",
    "        # Get the HTML content\n",
    "        html_content = driver.page_source\n",
    "        \n",
    "        # Parse with BeautifulSoup\n",
    "        soup = BeautifulSoup(html_content, 'html.parser')\n",
    "\n",
    "        # Extract job title - LinkedIn typically uses h1 with class 'top-card-layout__title'\n",
    "        job_title_element = soup.select_one(\"h1.top-card-layout__title\")\n",
    "        job_title = job_title_element.get_text(strip=True) if job_title_element else \"Job title not found\"\n",
    "        \n",
    "        # Find the job description section\n",
    "        # LinkedIn structure may change, so you might need to adjust these selectors\n",
    "        job_description = soup.select_one(\".show-more-less-html__markup\")\n",
    "        \n",
    "        if job_description:\n",
    "            # Extract text from the job description\n",
    "            job_text = job_description.get_text(strip=True)\n",
    "            return {\"title\": job_title, \"description\": job_text}\n",
    "        else:\n",
    "            # Try alternative selectors if the first one fails\n",
    "            job_description = soup.select_one(\".description__text\")\n",
    "            if job_description:\n",
    "                job_text = job_description.get_text(strip=True)\n",
    "                return {\"title\": job_title, \"description\": job_text}\n",
    "            else:\n",
    "                return {\"title\": job_title, \"description\": \"Could not find job description section.\"}\n",
    "    \n",
    "    \n",
    "    except Exception as e:\n",
    "        return f\"Error: {str(e)}\"\n",
    "    \n",
    "    finally:\n",
    "        # Close the browser\n",
    "        driver.quit()\n",
    "\n"
   ]
  },
  {
   "cell_type": "code",
   "execution_count": 342,
   "id": "ebae1bac-c3e9-4ecf-8067-06510e5d5cf9",
   "metadata": {},
   "outputs": [
    {
     "name": "stdout",
     "output_type": "stream",
     "text": [
      "{'title': 'Product Strategy and Operations Lead', 'description': \"Note: By applying to this position you will have an opportunity to share your preferred working location from the following:San Francisco, CA, USA; Seattle, WA, USA; Sunnyvale, CA, USA.Minimum qualifications:Bachelor's degree or equivalent practical experience.8 years of experience in management consulting, product management and strategy, or analytics in a technology company.3 years of experience in Financial Modeling and Analysis and 3 years of Cloud experience.Experience working with and analyzing data, and managing multiple projects.Preferred qualifications:Advanced degree.Experience working with product and engineering teams.Familiarity with cloud infrastructure or SaaS commercial programs and business models.Ability to be entrepreneurial to source data and setup internal mechanisms to store and track.Excellent communication skills.About The JobProduct and Business Strategy Leaders bring together teams across Google’s functions to help products execute optimally. Our team pushes Google to scale at key points that refine our products and infrastructure by executing efficiently, bringing solid business sense and sound judgment, and working effectively across organizational lines.Our roles often include components of strategy (e.g. analyzing and understanding new trends in the industry, building business plans), operations (e.g. running the cadence of organizations, connecting the operating lines between our functions), and communications. Our team partners with senior leadership to run important functions that cross-cut our existing organizations and deliver high impact projects. We help Engineers, PMs, UX, and all of our other functions to build amazing products that delight our users, and then get those products into their hands.As a Lead for competitive and market insights, you are responsible for building a robust and scalable platform where we monitor and collect critical signals of market intelligence and competitor behavior. You will use this process to track and identify trends that help us understand what customers wants and what our competitors are doing in the market, allowing us to stay one step ahead.In this role, you will assist with the steady stream of inbound executive requests for information and insights, while allowing us to proactively identify patterns and bring these to leaders across the Cloud business.Google Cloud accelerates every organization’s ability to digitally transform its business and industry. We deliver enterprise-grade solutions that leverage Google’s cutting-edge technology, and tools that help developers build more sustainably. Customers in more than 200 countries and territories turn to Google Cloud as their trusted partner to enable growth and solve their most critical business problems.The US base salary range for this full-time position is $144,000-$211,000 + bonus + equity + benefits. Our salary ranges are determined by role, level, and location. Within the range, individual pay is determined by work location and additional factors, including job-related skills, experience, and relevant education or training. Your recruiter can share more about the specific salary range for your preferred location during the hiring process.Please note that the compensation details listed in US role postings reflect the base salary only, and do not include bonus, equity, or benefits. Learn more about benefits at Google .ResponsibilitiesIdentify and prioritize the most critical pieces of competitive and market intelligence data to create actionable insights for BPP and Cloud more broadly (e.g., competitor investments, customer wins, hiring trends).Develop processes that allow you to monitor and collect these data in a near-real time and scalable fashion.Build and scale a data repository of these data that allows you to rapidly answer executive questions on competitive and market trends.Identify market shifts and competitive focus areas.Create and deliver effective presentations of findings and recommendations to multiple levels of stakeholders, through visual displays of quantitative information/insights.Google is proud to be an equal opportunity workplace and is an affirmative action employer. We are committed to equal employment opportunity regardless of race, color, ancestry, religion, sex, national origin, sexual orientation, age, citizenship, marital status, disability, gender identity or Veteran status. We also consider qualified applicants regardless of criminal histories, consistent with legal requirements. See also Google's EEO Policy and EEO is the Law. If you have a disability or special need that requires accommodation, please let us know by completing our Accommodations for Applicants form .\"}\n"
     ]
    }
   ],
   "source": [
    "# Usage\n",
    "job_description = scrape_linkedin_job(job_url)\n",
    "print(job_description)"
   ]
  },
  {
   "cell_type": "markdown",
   "id": "fef7657e-5dc7-41f5-987a-1fd5fb7fe0ae",
   "metadata": {},
   "source": [
    "---\n",
    "Mission accomplished.  We now have the job description in unstructured format.  Onto the next stage..."
   ]
  },
  {
   "cell_type": "markdown",
   "id": "85d07d7c-2dbb-4ad3-869c-dbc563e21e42",
   "metadata": {},
   "source": [
    "### 2. Extract key job data\n",
    "\n",
    "We're going to create a prompt to do this which in turn we'll need to set up the prompt for the creation of the cover letter.\n",
    "\n",
    "The steps:\n",
    "1. Create prompt, add to llm to form a chain (in Langchain, a chain is a way to connect different parts to do tasks)\n",
    "2. Invoke chain with inputs -- in this case, the job description\n",
    "3. Convert output from 2 into a readable format (JSON) so we can extract the necessary data for later use.  "
   ]
  },
  {
   "cell_type": "markdown",
   "id": "71c58d3d-e23f-4f68-a4c9-ac8a407b4a88",
   "metadata": {},
   "source": [
    "#### Prompt, Chain, Invoke, Convert"
   ]
  },
  {
   "cell_type": "code",
   "execution_count": 344,
   "id": "c73fa6f0-6fbe-4eb4-91d9-f5de2ae47a1d",
   "metadata": {},
   "outputs": [
    {
     "data": {
      "text/plain": [
       "{'company': 'Google',\n",
       " 'role': 'Product Strategy and Operations Lead',\n",
       " 'experience': '8 years of experience in management consulting, product management and strategy, or analytics in a technology company. 3 years of experience in Financial Modeling and Analysis and 3 years of Cloud experience.',\n",
       " 'required skills': [\"Bachelor's degree or equivalent practical experience\",\n",
       "  'Experience working with and analyzing data, and managing multiple projects'],\n",
       " 'description': 'Product and Business Strategy Leaders bring together teams across Google’s functions to help products execute optimally. Our team pushes Google to scale at key points that refine our products and infrastructure by executing efficiently, bringing solid business sense and sound judgment, and working effectively across organizational lines.',\n",
       " 'expected payrange': '$144,000-$211,000 + bonus + equity + benefits'}"
      ]
     },
     "execution_count": 344,
     "metadata": {},
     "output_type": "execute_result"
    }
   ],
   "source": [
    "prompt_extract = PromptTemplate.from_template(\n",
    "    \"\"\"\n",
    "    ### SCRAPE TEXT FROM WEBSITE\n",
    "    {job description}\n",
    "    ### INSTRUCTIONS:\n",
    "    1. The scraped text is from a web page detailing a job opportunity.\n",
    "    2. Your job is to extract the job posting and return in JSON format containing the\n",
    "    following keys: `company`,`role`, `experience`, `required skills`,`description`, `expected payrange`.\n",
    "    3. Do not create new keys\n",
    "    4. Only return the valid JSON. NO PREAMBLE\n",
    "\n",
    "    \"\"\"\n",
    ")\n",
    "\n",
    "chain_extract = prompt_extract | llm\n",
    "\n",
    "res_extract = chain_extract.invoke(input= {'job description':job_description})\n",
    "#print(res_extract.content)\n",
    "\n",
    "# Turns out the output is intype string so we still need to convert to JSON\n",
    "json_extract = JsonOutputParser()\n",
    "json_res = json_extract.parse(res_extract.content)\n",
    "json_res"
   ]
  },
  {
   "cell_type": "markdown",
   "id": "8ec15021-5d7c-429f-ab0b-d012ffa3b552",
   "metadata": {},
   "source": [
    "#### Extract data\n",
    "\n",
    "~~Observation: Still not perfect.  since i think the official role is \"Product Strategy and Operations Lead\".  Selenium function requires some fine-tuning.~~ Fixed it. "
   ]
  },
  {
   "cell_type": "code",
   "execution_count": 347,
   "id": "c2fbd3e0-6207-4a44-9140-6ef73e11bd07",
   "metadata": {},
   "outputs": [
    {
     "name": "stdout",
     "output_type": "stream",
     "text": [
      "Company:Google\n",
      "Job:Product Strategy and Operations Lead\n",
      "Skills needed:[\"Bachelor's degree or equivalent practical experience\", 'Experience working with and analyzing data, and managing multiple projects']\n"
     ]
    }
   ],
   "source": [
    "company_name = json_res['company']\n",
    "job_title = json_res['role']\n",
    "job_skills = json_res['required skills']\n",
    "\n",
    "print(f\"Company:{company_name}\\nJob:{job_title}\\nSkills needed:{job_skills}\")"
   ]
  },
  {
   "cell_type": "markdown",
   "id": "6ca73bcd-0165-4735-9f58-fd12c483afaa",
   "metadata": {},
   "source": [
    "### 3. Scrape relevant skills and experiences from your resume\n",
    "\n",
    "This step mirrors the previous one.  Instead of pulling data from a website, we'll pull data from the cv on file.  From that standpoint, it's a lot more straightforward -- no need for a tool like Selenium.  Just create a prompt that intructs the LLM to pull key information and output in a data frame.  We'll use the data frame later to save onto ChromaDB.   "
   ]
  },
  {
   "cell_type": "markdown",
   "id": "d7b9c0aa-a0a0-4718-af72-2e501454d918",
   "metadata": {},
   "source": [
    "#### Load and read resume"
   ]
  },
  {
   "cell_type": "code",
   "execution_count": 227,
   "id": "ad3e58b8-fd3e-4809-86d7-1e31184ea217",
   "metadata": {},
   "outputs": [
    {
     "name": "stdout",
     "output_type": "stream",
     "text": [
      "RAYMOND ZIALCITA\n",
      "San Jose, CA 95118\n",
      "408-425-4297 | raymondbzialcita@gmail.com\n",
      "\n",
      "DIRECTOR OF STRATEGY AND MARKET INTELLIGENCE\n",
      "Corporate Strategy| Market Research and Intelligence | Competitive Analysis | Data Analysis\n",
      "An accomplished and performance-driven senior executive with a long history of developing business strategies through market and competitive intelligence research and analysis. Expertise lies leading market research projects, consulting teams find new areas of growth, and rounding out product and business strategy setting with go-to-market and tactical execution. Passionate about leveraging data-driven insights to help businesses thrive and make a lasting impact on the market.  Proficient in Data Science tools like Excel, Python, R, PowerBI and SQL.\n",
      "KEY SKILLS\n",
      "Strategic and Analytical Thinker | Seasoned | Confident Presenter | Primary Research Interviewer | Proficient In AI/ML/Data Science Tools Like Azure ML Studio, Data Robot, R And Python Programming Languages and PowerBI | Proficient in other research tools like Gartner, CBInsights, Pitchbook and AlphaSense\n",
      "WORK EXPERIENCE\n",
      "intel Corporation                                                                                                                              2021 - 2024\n",
      "Corporate Strategist, Competitive Intelligence Lead\n",
      "Served as an Intelligence Lead for Arm licensees and the software market, and kept Intel’s senior executive leadership informed on Qualcomm, Broadcom, and Marvell through quarterly communications. Collaborated with Intel’s Fellow community to develop a plan for monetizing R&D and other IP. Lead end to end research from interviews with both internal experts and industry analysts to presenting insights to senior management. \n",
      "Competitive Analysis Leadership: Conducted and presented a comprehensive strategic analysis of Intel’s custom chip competitors, shaping executive discussions with the CEO and staff, resulting in new business unit product actions.\n",
      "RISC-V Corp Strategy Development: Led a team of analysts to formalize Intel’s RISC-V strategy covering trends, product opportunities and competitive threats. Strategy recommendations reviewed and ratified by the Chief Strategy Officer and implemented by Intel China team. Developed RISC-V Market TAM Forecasts, guiding roadmap strategies for China and Europe.\n",
      "Business Model Development: Developed an investment and business model framework to aid Intel decision-making on R&D monetization.  \n",
      "SW Insights Forum Leadership: Organized and co-chaired the cross-Intel Software Insights Forum, publishing a quarterly newsletter that showcased the latest re-search and insights on Intel’s software efforts.\n",
      "Senior Strategic Planner                                                                                                                        2015 - 2021\n",
      "As a strategic planner and consultant to business units, led market and competitive intelligence research and analytical efforts on new business opportunities. Started a data valuation practice at Intel, advising data project teams on the economic value of their data and the best business models to unlock data value. Analysis covered new technologies around data sharing (e.g., pc telemetry and federated learning) and connected car-to-cloud services. Led the market watch program, presenting quarterly market and competitive insights to the CEO and staff. \n",
      "Data valuation practice initiation: Built the data valuation practice and developed a repeatable method for quantifying data value using best-known financial valuation methods. Appraised the value of seven data projects and presented findings and recommendations to general managers.\n",
      "Market watch presentations: Led a team of analysts and planners to deliver four market watch presentations to the CEO and direct staff. Authored white papers on the convergence of life sciences and computer science and the rise of the data economy.\n",
      "Division business problem solving: Led a team of analysts to solve specific division business problems, including reducing desktop forecast errors and desktop/server transfer costs through analytics. The project resulted in actions aimed at reducing inventory costs by tens of millions of dollars.\n",
      "Worldwide Partner Marketing Manager                                                                                           2013 - 2015\n",
      "Managed all connected car co-marketing engagements, specifically with BMW, Nissan, and Jaguar-Land Rover. \n",
      "360⁰ connected car marketing plan execution: Successfully executed a com-prehensive connected car marketing plan with BMW and Nissan at CES, including social media and press activation.\n",
      "Demand generation pilot: Ran a demand generation pilot and supported BMW Austin dealer in the launch of the i3. Exceeded KPIs: impressions 20% above goal, landing page engagements 265% above goal, and website clicks 760% above goal.\n",
      "\n",
      "Operations Lead, Chief of Staff                                                                                                           2012 - 2013\n",
      "Led PMG team training and development efforts, championing data-driven processes and decision-making. Presided over GM staff meetings and agenda, and managed the worldwide PMG metrics dashboard for the GM. Supported the PMG GM on various internal and external presentations, keynotes, and speaking engagements. \n",
      "Partner Marketing Group Communication: Responsible for GM speeches and presentations, providing general support for GM keynotes at internal and external events.\n",
      "Staff Skills Development: Led group staff skills development on marketing and customer relationship management through workshops with Microsoft’s in-house agency and the Effie organization.\n",
      "Additional job experience details upon request.\n",
      "\n",
      "EDUCATION\n",
      "MBA\n",
      "University of Texas at Austin, Austin, Texas\n",
      "BS Management Engineering\n",
      "Ateneo de Manila University, Manila, Philippines\n"
     ]
    }
   ],
   "source": [
    "# create user-defined function that will read the resume in word format\n",
    "def read_docx(file_path):\n",
    "    # Open the document\n",
    "    doc = docx.Document(file_path)\n",
    "    \n",
    "    # Extract text from paragraphs\n",
    "    full_text = []\n",
    "    for para in doc.paragraphs:\n",
    "        full_text.append(para.text)\n",
    "    \n",
    "    # Join all paragraphs with newlines\n",
    "    return '\\n'.join(full_text)\n",
    "\n",
    "# Example usage\n",
    "file_path = 'raymondzialcita_resume_jan25.docx'\n",
    "cv = read_docx(file_path)\n",
    "print(cv)"
   ]
  },
  {
   "cell_type": "markdown",
   "id": "4d9a5838-58aa-4d6f-aee6-d0494afc5d3f",
   "metadata": {},
   "source": [
    "#### Prompt, Chain, Invoke, Convert "
   ]
  },
  {
   "cell_type": "code",
   "execution_count": 156,
   "id": "9b0f6a0b-4d9d-4e7b-9731-f6e4481f26f7",
   "metadata": {},
   "outputs": [
    {
     "name": "stdout",
     "output_type": "stream",
     "text": [
      "                              skills  \\\n",
      "0   Strategic and Analytical Thinker   \n",
      "1                Confident Presenter   \n",
      "2       Primary Research Interviewer   \n",
      "3                      Data Analysis   \n",
      "4           AI/ML/Data Science Tools   \n",
      "5               Competitive Analysis   \n",
      "6                    Market Research   \n",
      "7                  Business Strategy   \n",
      "8                     Data Valuation   \n",
      "9                       Market Watch   \n",
      "10              Data-Driven Insights   \n",
      "11                        Leadership   \n",
      "\n",
      "                                  relevant_experience  \n",
      "0   Developed business strategies through market a...  \n",
      "1   Presented insights to senior management, inclu...  \n",
      "2   Conducted end-to-end research from interviews ...  \n",
      "3   Proficient in data analysis using tools like E...  \n",
      "4   Proficient in AI/ML/Data Science tools like Az...  \n",
      "5   Conducted comprehensive strategic analysis of ...  \n",
      "6   Led market and competitive intelligence resear...  \n",
      "7   Developed business strategies through market a...  \n",
      "8   Built the data valuation practice and develope...  \n",
      "9   Led a team of analysts and planners to deliver...  \n",
      "10  Led market and competitive intelligence resear...  \n",
      "11  Led a team of analysts to formalize Intel's RI...  \n"
     ]
    }
   ],
   "source": [
    "# Better prompt that explicitly asks for JSON output\n",
    "prompt_cv = PromptTemplate.from_template(\"\"\"\n",
    "    ### CV TEXT:\n",
    "    {cv}\n",
    "    \n",
    "    ### INSTRUCTIONS:\n",
    "    Extract skills and relevant work experiences from this CV.\n",
    "    \n",
    "    For each skill, provide a concise description.\n",
    "    For experiences, combine all relevant experience into a single descriptive paragraph for each skill.\n",
    "    \n",
    "    Return the data as a JSON object with:\n",
    "    1. \"skills\": A list of skill names\n",
    "    2. \"experiences\": A list of corresponding experience paragraphs that match each skill\n",
    "    \n",
    "    Make sure both lists have the same length and indexes correspond (skill[0] matches with experience[0], etc.)\n",
    "    \n",
    "    Format your response as a valid JSON object only, with no additional text.\n",
    "    \"\"\"\n",
    ")\n",
    "\n",
    "\n",
    "# Create and run the chain\n",
    "chain_cv = prompt_cv | llm\n",
    "\n",
    "# Process the CV\n",
    "def analyze_cv(cv_text):\n",
    "    # Get the LLM response\n",
    "    response = chain_cv.invoke(input={'cv': cv_text})\n",
    "    \n",
    "    try:\n",
    "        # Convert the LLM's JSON response to a Python dictionary\n",
    "        data = json.loads(response.content)\n",
    "        \n",
    "        # Create DataFrame from the extracted data\n",
    "        df = pd.DataFrame({\n",
    "            'skills': data['skills'],\n",
    "            'relevant_experience': data['experiences']\n",
    "        })\n",
    "        \n",
    "        return df\n",
    "    \n",
    "    except json.JSONDecodeError:\n",
    "        # If the LLM didn't return valid JSON, print the response\n",
    "        print(\"LLM did not return valid JSON. Raw response:\")\n",
    "        print(response.content)\n",
    "        \n",
    "        # Create a simple fallback DataFrame\n",
    "        return pd.DataFrame({\n",
    "            'skills': [\"Parsing Error\"],\n",
    "            'relevant_experience': [\"Could not parse LLM response into valid JSON.\"]\n",
    "        })\n",
    "\n",
    "# Example usage\n",
    "result_df = analyze_cv(cv)\n",
    "print(result_df)"
   ]
  },
  {
   "cell_type": "code",
   "execution_count": null,
   "id": "c9f704bd-4747-425b-bb5a-19edeec0451e",
   "metadata": {},
   "outputs": [],
   "source": [
    "# We'll need as input for the prompt for the cover letter\n",
    "candidate_skills = result_df['skills'].values.tolist()"
   ]
  },
  {
   "cell_type": "markdown",
   "id": "6f9d7b08-886e-45c6-8919-5033809129a8",
   "metadata": {},
   "source": [
    "### 4. Load candidate skills and relevant experience onto ChromaDB\n"
   ]
  },
  {
   "cell_type": "code",
   "execution_count": 321,
   "id": "7197f791-1685-4d35-bbb3-9c401f17d787",
   "metadata": {},
   "outputs": [],
   "source": [
    "# Deleting to clean out from previous runs\n",
    "#client.delete_collection(name=\"vectorstore\")\n",
    "\n",
    "# Initialize\n",
    "client = chromadb.PersistentClient('vectorstore')\n",
    "collection = client.get_or_create_collection(name='my_cv')\n",
    "\n",
    "if not collection.count():\n",
    "    for _, row in result_df.iterrows():\n",
    "        collection.add(documents=row['skills'],\n",
    "                       metadatas={'experiences': row['relevant_experience']},\n",
    "                                   ids=[str(uuid.uuid4())])"
   ]
  },
  {
   "cell_type": "markdown",
   "id": "064b6b94-f7e0-4b93-8325-6043020775e5",
   "metadata": {},
   "source": [
    "Verify if data has been loaded"
   ]
  },
  {
   "cell_type": "code",
   "execution_count": 323,
   "id": "29ec1100-273b-4335-8e04-861cd7a60b53",
   "metadata": {},
   "outputs": [
    {
     "data": {
      "text/plain": [
       "{'ids': ['bb31a3bd-4938-4579-8040-559e1114e741',\n",
       "  'a58f663f-93f5-4f4e-9512-9806739990a3',\n",
       "  'cee29569-6513-4b31-9527-4bc2e6ba2d7a',\n",
       "  'a850e944-6d06-4edd-8ad0-852b86e08e83',\n",
       "  '7558e77e-71f2-46c1-b247-5a1526449853',\n",
       "  '0de72de1-d388-4322-a551-d145e0689889',\n",
       "  'b79fcd95-d100-485a-afad-90fe5ee8370b',\n",
       "  '7382899f-5763-4d9d-977f-b2e08e16a86a',\n",
       "  'b7a89ab5-4092-4e33-bccc-d87841f668a8',\n",
       "  '142ebed0-69dc-4451-84ed-e8aed7d63e25',\n",
       "  '644998a3-1043-4515-9d6b-2a8994ddf2cf',\n",
       "  'b0aa07a6-f120-4d3f-922b-6ce2d6958485'],\n",
       " 'embeddings': None,\n",
       " 'documents': ['Strategic and Analytical Thinker',\n",
       "  'Confident Presenter',\n",
       "  'Primary Research Interviewer',\n",
       "  'Data Analysis',\n",
       "  'AI/ML/Data Science Tools',\n",
       "  'Competitive Analysis',\n",
       "  'Market Research',\n",
       "  'Business Strategy',\n",
       "  'Data Valuation',\n",
       "  'Market Watch',\n",
       "  'Data-Driven Insights',\n",
       "  'Leadership'],\n",
       " 'uris': None,\n",
       " 'included': ['metadatas', 'documents'],\n",
       " 'data': None,\n",
       " 'metadatas': [{'experiences': \"Developed business strategies through market and competitive intelligence research and analysis, leveraging data-driven insights to help businesses thrive and make a lasting impact on the market. Conducted and presented comprehensive strategic analysis of Intel's custom chip competitors, shaping executive discussions with the CEO and staff, resulting in new business unit product actions.\"},\n",
       "  {'experiences': \"Presented insights to senior management, including quarterly communications with Intel's senior executive leadership on Qualcomm, Broadcom, and Marvell. Co-chaired the cross-Intel Software Insights Forum, publishing a quarterly newsletter that showcased the latest research and insights on Intel's software efforts.\"},\n",
       "  {'experiences': 'Conducted end-to-end research from interviews with both internal experts and industry analysts, presenting insights to senior management. Led market and competitive intelligence research and analytical efforts on new business opportunities.'},\n",
       "  {'experiences': 'Proficient in data analysis using tools like Excel, Python, R, PowerBI, and SQL. Developed an investment and business model framework to aid Intel decision-making on R&D monetization. Analyzed new technologies around data sharing and connected car-to-cloud services.'},\n",
       "  {'experiences': 'Proficient in AI/ML/Data Science tools like Azure ML Studio, Data Robot, R, and Python programming languages, and PowerBI. Developed RISC-V Market TAM Forecasts, guiding roadmap strategies for China and Europe.'},\n",
       "  {'experiences': \"Conducted comprehensive strategic analysis of Intel's custom chip competitors, shaping executive discussions with the CEO and staff, resulting in new business unit product actions. Led a team of analysts to formalize Intel's RISC-V strategy covering trends, product opportunities, and competitive threats.\"},\n",
       "  {'experiences': 'Led market and competitive intelligence research and analytical efforts on new business opportunities. Started a data valuation practice at Intel, advising data project teams on the economic value of their data and the best business models to unlock data value.'},\n",
       "  {'experiences': 'Developed business strategies through market and competitive intelligence research and analysis, leveraging data-driven insights to help businesses thrive and make a lasting impact on the market. Led a team of analysts to solve specific division business problems, including reducing desktop forecast errors and desktop/server transfer costs through analytics.'},\n",
       "  {'experiences': 'Built the data valuation practice and developed a repeatable method for quantifying data value using best-known financial valuation methods. Appraised the value of seven data projects and presented findings and recommendations to general managers.'},\n",
       "  {'experiences': 'Led a team of analysts and planners to deliver four market watch presentations to the CEO and direct staff. Authored white papers on the convergence of life sciences and computer science and the rise of the data economy.'},\n",
       "  {'experiences': 'Led market and competitive intelligence research and analytical efforts on new business opportunities. Developed business strategies through market and competitive intelligence research and analysis, leveraging data-driven insights to help businesses thrive and make a lasting impact on the market.'},\n",
       "  {'experiences': \"Led a team of analysts to formalize Intel's RISC-V strategy covering trends, product opportunities, and competitive threats. Organized and co-chaired the cross-Intel Software Insights Forum, publishing a quarterly newsletter that showcased the latest research and insights on Intel's software efforts.\"}]}"
      ]
     },
     "execution_count": 323,
     "metadata": {},
     "output_type": "execute_result"
    }
   ],
   "source": [
    "collection.get()"
   ]
  },
  {
   "cell_type": "markdown",
   "id": "9934e1cf-5338-40d4-9f13-173f467d5e36",
   "metadata": {},
   "source": [
    "Test to see if queries are working"
   ]
  },
  {
   "cell_type": "code",
   "execution_count": 328,
   "id": "a5bb00d4-495e-4bdb-ba0e-6e7b1dc212aa",
   "metadata": {},
   "outputs": [
    {
     "data": {
      "text/plain": [
       "[[{'experiences': 'Developed business strategies through market and competitive intelligence research and analysis, leveraging data-driven insights to help businesses thrive and make a lasting impact on the market. Led a team of analysts to solve specific division business problems, including reducing desktop forecast errors and desktop/server transfer costs through analytics.'}]]"
      ]
     },
     "execution_count": 328,
     "metadata": {},
     "output_type": "execute_result"
    }
   ],
   "source": [
    "exp = collection.query(query_texts=[\"Experience in strategy setting\"], n_results= 1).get('metadatas',[])\n",
    "exp"
   ]
  },
  {
   "cell_type": "markdown",
   "id": "c8e9be7d-2d99-467c-95b9-f45d2e52e2a7",
   "metadata": {},
   "source": [
    "### 5. Generate custom-made cover letter\n",
    "\n",
    "You know the drill.  Prompt, add to chain, invoke."
   ]
  },
  {
   "cell_type": "code",
   "execution_count": 353,
   "id": "4e256b59-0326-4236-bbeb-12e6d6964631",
   "metadata": {},
   "outputs": [],
   "source": [
    "prompt_cover = PromptTemplate.from_template(\n",
    "    \"\"\"\n",
    "    \n",
    "    You are an expert career coach with extensive experience writing compelling cover letters.\n",
    "    \n",
    "    Create a tailored cover letter for a {job_title} position at {company_name}.\n",
    "    \n",
    "    JOB DESCRIPTION KEY SKILLS:\n",
    "    {job_skills}\n",
    "    \n",
    "    CANDIDATE'S RELEVANT SKILLS AND EXPERIENCE:\n",
    "    {candidate_skills}\n",
    "    \n",
    "    \n",
    "    Write a personalized cover letter that:\n",
    "    1. Opens with a compelling introduction showing enthusiasm for this specific role\n",
    "    2. Highlights 2-3 clear connections between the job requirements and the candidate's experience\n",
    "    3. Uses concrete examples and achievements with measurable results when possible\n",
    "    4. Demonstrates knowledge of the company's recent achievements or values\n",
    "    5. Closes with a confident call to action\n",
    "    6. Maintains a length of 3-4 paragraphs (under one page)\n",
    "    7. Uses a professional but conversational tone\n",
    "    8. NO PREAMBLE, just output the cover letter\n",
    "    9. No need for the block containing \"Hiring manager, address, etc\"\n",
    "    10.  Instead of an example data, create a placeholder that says \"[INSERT TODAY's DATE]\"\n",
    "    \n",
    "    FORMAT THE LETTER APPROPRIATELY WITH DATE, GREETING, AND SIGNATURE.\n",
    "        \n",
    "    \"\"\"\n",
    ")\n",
    "\n",
    "# Create and run the chain\n",
    "chain_cover = prompt_cover | llm\n",
    "\n",
    "# Invoke with inputs\n",
    "result_cover = chain_cover.invoke(\n",
    "    input = {\"company_name\": company_name,\n",
    "             \"job_title\": job_title,\n",
    "             'job_skills': job_skills,\n",
    "             'candidate_skills': candidate_skills\n",
    "            }\n",
    ")  "
   ]
  },
  {
   "cell_type": "code",
   "execution_count": 355,
   "id": "47faafb9-466c-4d38-9b59-b82d8756b8fe",
   "metadata": {},
   "outputs": [
    {
     "name": "stdout",
     "output_type": "stream",
     "text": [
      "[INSERT TODAY's DATE]\n",
      "\n",
      "Dear Hiring Team,\n",
      "\n",
      "I'm thrilled to apply for the Product Strategy and Operations Lead role at Google, where I can leverage my analytical mindset, strategic thinking, and leadership skills to drive business growth and innovation. As a long-time admirer of Google's commitment to using technology to solve complex problems, I'm excited about the opportunity to contribute to the company's mission to organize the world's information and make it universally accessible and useful.\n",
      "\n",
      "With my background in data analysis, market research, and business strategy, I'm confident in my ability to excel in this role. My experience as a Primary Research Interviewer has equipped me with the skills to gather and analyze data, identify patterns, and develop actionable insights. In my previous role, I successfully applied data-driven insights to inform business strategy, resulting in a 25% increase in revenue growth. I'm excited to bring this expertise to Google and drive similar results. Additionally, my proficiency in AI/ML/Data Science Tools will enable me to effectively collaborate with cross-functional teams and drive product strategy.\n",
      "\n",
      "I'm particularly drawn to Google's innovative approach to product development, as seen in the recent launch of Google Cloud AI Platform. I'm impressed by the company's commitment to using AI to solve real-world problems and its focus on creating a more sustainable future. As a strategic and analytical thinker, I believe I would thrive in Google's fast-paced and dynamic environment. I'm excited about the opportunity to contribute to the company's continued success and innovation.\n",
      "\n",
      "Thank you for considering my application. I'm confident that my skills, experience, and passion for driving business growth make me an ideal fit for this role. I look forward to discussing my qualifications further and exploring how I can contribute to Google's continued success.\n",
      "\n",
      "Sincerely,\n",
      "[Your Name]\n"
     ]
    }
   ],
   "source": [
    "print(result_cover.content)"
   ]
  },
  {
   "cell_type": "markdown",
   "id": "f2246384-f3e8-4d0e-a753-6549b812b6f0",
   "metadata": {},
   "source": [
    "### You probabaly still have to wordsmith.  I've used it a few times and and it certainly speeds things up for me.  As for whether it actually helps you land the job, that isn't the purpose of this exercise really.  Good luck!  "
   ]
  },
  {
   "cell_type": "code",
   "execution_count": null,
   "id": "c055f656-3b5b-47fd-8f03-848294e779c1",
   "metadata": {},
   "outputs": [],
   "source": []
  }
 ],
 "metadata": {
  "kernelspec": {
   "display_name": "Python [conda env:base] *",
   "language": "python",
   "name": "conda-base-py"
  },
  "language_info": {
   "codemirror_mode": {
    "name": "ipython",
    "version": 3
   },
   "file_extension": ".py",
   "mimetype": "text/x-python",
   "name": "python",
   "nbconvert_exporter": "python",
   "pygments_lexer": "ipython3",
   "version": "3.12.7"
  }
 },
 "nbformat": 4,
 "nbformat_minor": 5
}
